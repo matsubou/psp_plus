{
 "cells": [
  {
   "cell_type": "code",
   "execution_count": null,
   "id": "6a926472",
   "metadata": {},
   "outputs": [],
   "source": [
    "from morpheus import Morpheus"
   ]
  },
  {
   "cell_type": "code",
   "execution_count": null,
   "id": "ccbdb711",
   "metadata": {},
   "outputs": [],
   "source": [
    "%matplotlib inline"
   ]
  },
  {
   "cell_type": "code",
   "execution_count": null,
   "id": "f6d046d1",
   "metadata": {
    "scrolled": true
   },
   "outputs": [],
   "source": [
    "mo = Morpheus()"
   ]
  },
  {
   "cell_type": "code",
   "execution_count": null,
   "id": "c4f68c70",
   "metadata": {},
   "outputs": [],
   "source": [
    "mo.dirs.keys()"
   ]
  },
  {
   "cell_type": "code",
   "execution_count": null,
   "id": "14aee38a",
   "metadata": {},
   "outputs": [],
   "source": [
    "mo.loadLatent('gl0')"
   ]
  },
  {
   "cell_type": "code",
   "execution_count": null,
   "id": "d20e9500",
   "metadata": {},
   "outputs": [],
   "source": [
    "mags = [2, -5, 3]\n",
    "directions = ['emotion_disgust', 'angle_pitch', 'age']\n",
    "\n",
    "mo.morph(directions, mags)\n",
    "mo.showImg()"
   ]
  }
 ],
 "metadata": {
  "kernelspec": {
   "display_name": "Python 3 (ipykernel)",
   "language": "python",
   "name": "python3"
  },
  "language_info": {
   "codemirror_mode": {
    "name": "ipython",
    "version": 3
   },
   "file_extension": ".py",
   "mimetype": "text/x-python",
   "name": "python",
   "nbconvert_exporter": "python",
   "pygments_lexer": "ipython3",
   "version": "3.7.15"
  }
 },
 "nbformat": 4,
 "nbformat_minor": 5
}
